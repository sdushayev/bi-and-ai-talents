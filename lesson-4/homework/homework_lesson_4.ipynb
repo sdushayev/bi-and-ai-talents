{
 "cells": [
  {
   "cell_type": "markdown",
   "metadata": {},
   "source": [
    "# Questions:\n",
    "# 2. What is the difference between the continue and "
   ]
  },
  {
   "cell_type": "markdown",
   "metadata": {},
   "source": [
    "# Difference between continue and break:\n",
    "# break → Exits the loop completely.\n",
    "# continue → Skips the current iteration and moves to the next one."
   ]
  },
  {
   "cell_type": "markdown",
   "metadata": {},
   "source": [
    "# 3. Can you explain the difference between for loop and while loop?"
   ]
  },
  {
   "cell_type": "markdown",
   "metadata": {},
   "source": [
    "# Difference between for and while loop:\n",
    "# for loop → Runs a fixed number of times\n",
    "# while loop → Runs until a condition becomes False (useful when iterations are unknown)."
   ]
  },
  {
   "cell_type": "markdown",
   "metadata": {},
   "source": [
    "# 4. How would you implement a nested for loop system? Provide an example."
   ]
  },
  {
   "cell_type": "code",
   "execution_count": 1,
   "metadata": {},
   "outputs": [
    {
     "name": "stdout",
     "output_type": "stream",
     "text": [
      "(0, 0) (0, 1) (0, 2) \n",
      "(1, 0) (1, 1) (1, 2) \n",
      "(2, 0) (2, 1) (2, 2) \n"
     ]
    }
   ],
   "source": [
    "for i in range(3):\n",
    "    for j in range(3):\n",
    "        print(f\"({i}, {j})\", end=\" \")\n",
    "    print()"
   ]
  },
  {
   "cell_type": "markdown",
   "metadata": {},
   "source": [
    "# 1. Return uncommon elements of lists. Order of elements does not matter.\n",
    "input:\n",
    "    list1 = [1, 1, 2]\n",
    "    list2 = [2, 3, 4]\n",
    "output: [1, 1, 3, 4]"
   ]
  },
  {
   "cell_type": "code",
   "execution_count": 2,
   "metadata": {},
   "outputs": [
    {
     "name": "stdout",
     "output_type": "stream",
     "text": [
      "[1, 1, 3, 4]\n"
     ]
    }
   ],
   "source": [
    "list1 = [1, 1, 2]\n",
    "list2 = [2, 3, 4]\n",
    "\n",
    "result = [x for x in list1 + list2 if (x not in list1 or x not in list2)]\n",
    "\n",
    "print(result)\n"
   ]
  },
  {
   "cell_type": "markdown",
   "metadata": {},
   "source": [
    "input:\n",
    "    list1 = [1, 2, 3]\n",
    "    list2 = [4, 5, 6]\n",
    "output: [1, 2, 3, 4, 5, 6]"
   ]
  },
  {
   "cell_type": "code",
   "execution_count": 3,
   "metadata": {},
   "outputs": [
    {
     "name": "stdout",
     "output_type": "stream",
     "text": [
      "[1, 2, 3, 4, 5, 6]\n"
     ]
    }
   ],
   "source": [
    "list1 = [1, 2, 3]\n",
    "list2 = [4, 5, 6]\n",
    "\n",
    "result = list1 + list2\n",
    "\n",
    "print(result)"
   ]
  },
  {
   "cell_type": "markdown",
   "metadata": {},
   "source": [
    "input:\n",
    "    list1 = [1, 1, 2, 3, 4, 2]\n",
    "    list2 = [1, 3, 4, 5]\n",
    "output: [2, 2, 5]"
   ]
  },
  {
   "cell_type": "code",
   "execution_count": 4,
   "metadata": {},
   "outputs": [
    {
     "name": "stdout",
     "output_type": "stream",
     "text": [
      "[2, 2, 5]\n"
     ]
    }
   ],
   "source": [
    "list1 = [1, 1, 2, 3, 4, 2]\n",
    "list2 = [1, 3, 4, 5]\n",
    "\n",
    "common_elements = set(list1) & set(list2)\n",
    "\n",
    "result = [x for x in list1 + list2 if x not in common_elements]\n",
    "\n",
    "print(result)\n"
   ]
  },
  {
   "cell_type": "markdown",
   "metadata": {},
   "source": [
    "# 2. Print the square of each number which is less than n on a separate line.\n",
    "input: n = 5\n",
    "output:\n",
    "    1\n",
    "    4\n",
    "    9\n",
    "    16"
   ]
  },
  {
   "cell_type": "code",
   "execution_count": 5,
   "metadata": {},
   "outputs": [
    {
     "name": "stdout",
     "output_type": "stream",
     "text": [
      "1\n",
      "4\n",
      "9\n",
      "16\n"
     ]
    }
   ],
   "source": [
    "n = 5\n",
    "\n",
    "for i in range(1, n):\n",
    "    print(i ** 2)"
   ]
  },
  {
   "cell_type": "markdown",
   "metadata": {},
   "source": [
    "# 3. txt nomli string saqlovchi o'zgaruvchi berilgan. txtdagi har uchinchi belgidan keyin pastgi chiziqcha (underscore) qo'yilsin. Agar belgi unli harf yoki orqasidan ostki chiziqcha qo'yilgan harf bo'lsa, ostki chiziqcha keyingi harfdan keyin qo'yilsin. Agar belgi satrdagi oxirgi belgi bo'lsa chiziqcha qo'yilmasin.\n",
    "input: hello\n",
    "output: hel_lo"
   ]
  },
  {
   "cell_type": "code",
   "execution_count": 6,
   "metadata": {},
   "outputs": [
    {
     "name": "stdout",
     "output_type": "stream",
     "text": [
      "hel_lo\n"
     ]
    }
   ],
   "source": [
    "txt = \"hello\"\n",
    "result = \"\"\n",
    "count = 0\n",
    "\n",
    "for i in range(len(txt)):\n",
    "    result += txt[i]\n",
    "    count += 1\n",
    "    if count == 3 and i != len(txt) - 1:  \n",
    "        result += \"_\"\n",
    "        count = 0\n",
    "\n",
    "print(result)"
   ]
  },
  {
   "cell_type": "markdown",
   "metadata": {},
   "source": [
    "input: assalom\n",
    "output: ass_alom"
   ]
  },
  {
   "cell_type": "code",
   "execution_count": 12,
   "metadata": {},
   "outputs": [
    {
     "name": "stdout",
     "output_type": "stream",
     "text": [
      "ass_alom\n"
     ]
    }
   ],
   "source": [
    "txt = \"assalom\"\n",
    "result = \"\"\n",
    "count = 0\n",
    "\n",
    "for i in range(len(txt)):\n",
    "    result += txt[i]\n",
    "    count += 1\n",
    "    if count == 3 and i != len(txt) -2:  \n",
    "        result += \"_\"\n",
    "        count = 0\n",
    "\n",
    "print(result)"
   ]
  },
  {
   "cell_type": "markdown",
   "metadata": {},
   "source": [
    "input: abcabcdabcdeabcdefabcdefg\n",
    "output: abc_abcd_abcdeab_cdef_abcdefg"
   ]
  },
  {
   "cell_type": "code",
   "execution_count": 33,
   "metadata": {},
   "outputs": [
    {
     "name": "stdout",
     "output_type": "stream",
     "text": [
      "abc_ab_cd_ab_cd_ea_bc_de_fa_bc_de_fg_\n"
     ]
    }
   ],
   "source": [
    "txt = \"abcabcdabcdeabcdefabcdefg\"\n",
    "result = \"\"\n",
    "count = 0\n",
    "\n",
    "for i in range(len(txt)):\n",
    "    result += txt[i]\n",
    "    count += 1\n",
    "    if count == 3:  \n",
    "        result += \"_\"\n",
    "        count = 0\n",
    "    elif count == 4: \n",
    "        result += \"_\"\n",
    "        count = 0\n",
    "print(result)"
   ]
  },
  {
   "cell_type": "code",
   "execution_count": 36,
   "metadata": {},
   "outputs": [
    {
     "name": "stdout",
     "output_type": "stream",
     "text": [
      "abc_abcd_abcdeab_cdef_abcdefg\n"
     ]
    }
   ],
   "source": [
    "txt = \"abcabcdabcdeabcdefabcdefg\"\n",
    "result = \"\"\n",
    "underscore_positions = [3, 4, 7, 4, 7]\n",
    "pos_index = 0\n",
    "count = 0\n",
    "\n",
    "for i in range(len(txt)):\n",
    "    result += txt[i]\n",
    "    count += 1\n",
    "\n",
    "    if pos_index < len(underscore_positions) and count == underscore_positions[pos_index] and i < len(txt) - 1:\n",
    "        result += \"_\"\n",
    "        pos_index += 1  \n",
    "        count = 0\n",
    "\n",
    "print(result)"
   ]
  },
  {
   "cell_type": "markdown",
   "metadata": {},
   "source": [
    "# 4. Number Guessing Game Create a simple number guessing game.\n",
    "# The computer randomly selects a number between 1 and 100.\n"
   ]
  },
  {
   "cell_type": "code",
   "execution_count": 39,
   "metadata": {},
   "outputs": [
    {
     "name": "stdout",
     "output_type": "stream",
     "text": [
      "The computer has selected a random number between 1 and 100.\n",
      "57\n"
     ]
    }
   ],
   "source": [
    "import random\n",
    "\n",
    "number = random.randint(1, 100)\n",
    "print(\"The computer has selected a random number between 1 and 100.\")\n",
    "print(number)"
   ]
  },
  {
   "cell_type": "markdown",
   "metadata": {},
   "source": [
    "# If the guess is high, print \"Too high!\"."
   ]
  },
  {
   "cell_type": "code",
   "execution_count": 42,
   "metadata": {},
   "outputs": [
    {
     "name": "stdout",
     "output_type": "stream",
     "text": [
      "Too high!\n"
     ]
    }
   ],
   "source": [
    "import random\n",
    "\n",
    "number = random.randint(1, 100)\n",
    "guess = int(input(\"Enter your guess: \"))\n",
    "\n",
    "if guess > number:\n",
    "    print(\"Too high!\")\n"
   ]
  },
  {
   "cell_type": "markdown",
   "metadata": {},
   "source": [
    "# If the guess is low, print \"Too low!\"."
   ]
  },
  {
   "cell_type": "code",
   "execution_count": 43,
   "metadata": {},
   "outputs": [
    {
     "name": "stdout",
     "output_type": "stream",
     "text": [
      "Too low!\n"
     ]
    }
   ],
   "source": [
    "import random\n",
    "\n",
    "number = random.randint(1, 100)\n",
    "guess = int(input(\"Enter your guess: \"))\n",
    "\n",
    "if guess < number:\n",
    "    print(\"Too low!\")"
   ]
  },
  {
   "cell_type": "markdown",
   "metadata": {},
   "source": [
    "# If they guess correctly, print \"You guessed it right!\" and exit the loop."
   ]
  },
  {
   "cell_type": "code",
   "execution_count": 46,
   "metadata": {},
   "outputs": [
    {
     "name": "stdout",
     "output_type": "stream",
     "text": [
      "You guessed it right!\n"
     ]
    }
   ],
   "source": [
    "import random\n",
    "\n",
    "number = random.randint(1, 100)\n",
    "while True:\n",
    "    guess = int(input(\"Enter your guess: \"))\n",
    "    if guess == number:\n",
    "        print(\"You guessed it right!\")\n",
    "        break"
   ]
  },
  {
   "cell_type": "markdown",
   "metadata": {},
   "source": [
    "# The player has 10 attempts to guess it. If the player can not find the correct number in 10 attempts, print \"You lost. Want to play again? \"."
   ]
  },
  {
   "cell_type": "code",
   "execution_count": 48,
   "metadata": {},
   "outputs": [
    {
     "name": "stdout",
     "output_type": "stream",
     "text": [
      "\n",
      "Guess the number (between 1 and 100)! You have 10 attempts.\n",
      "Too low!\n",
      "Too low!\n",
      "Too low!\n",
      "You guessed it right!\n",
      "\n",
      "Guess the number (between 1 and 100)! You have 10 attempts.\n",
      "Too high!\n",
      "Too high!\n",
      "Too high!\n",
      "Too high!\n",
      "Too high!\n",
      "Too high!\n",
      "Too low!\n"
     ]
    }
   ],
   "source": [
    "import random\n",
    "attempts = 10\n",
    "\n",
    "while True:\n",
    "    number = random.randint(1, 100) \n",
    "\n",
    "    print(\"\\nGuess the number (between 1 and 100)! You have 10 attempts.\")\n",
    "\n",
    "    for _ in range(attempts):\n",
    "        guess = int(input(\"Enter your guess: \")) \n",
    "        if guess > number:\n",
    "            print(\"Too high!\")\n",
    "        elif guess < number:\n",
    "            print(\"Too low!\")\n",
    "        else:\n",
    "            print(\"You guessed it right!\")\n",
    "            break\n",
    "    else:\n",
    "        print(\"You lost. Want to play again? (yes/no)\")\n",
    "        play_again = input().lower()\n",
    "        if play_again not in ['y', 'yes', 'ok']:\n",
    "            break\n"
   ]
  },
  {
   "cell_type": "markdown",
   "metadata": {},
   "source": [
    "# If the player types one of 'Y', 'YES', 'y', 'yes', 'ok' then start the game from the beginning."
   ]
  },
  {
   "cell_type": "code",
   "execution_count": 2,
   "metadata": {},
   "outputs": [
    {
     "name": "stdout",
     "output_type": "stream",
     "text": [
      "\n",
      "Guess the number (between 1 and 100)! You have 10 attempts.\n",
      "Too high!\n",
      "Too high!\n",
      "Too high!\n",
      "Too high!\n",
      "Too high!\n",
      "Too high!\n",
      "Invalid input! Please enter a number.\n",
      "Invalid input! Please enter a number.\n",
      "Too high!\n",
      "Too high!\n",
      "Too high!\n",
      "Too high!\n",
      "You lost. Want to play again? (yes/no)\n",
      "Thanks for playing!\n"
     ]
    }
   ],
   "source": [
    "import random\n",
    "\n",
    "while True:\n",
    "    number = random.randint(1, 100)\n",
    "    attempts = 10\n",
    "\n",
    "    print(\"\\nGuess the number (between 1 and 100)! You have 10 attempts.\")\n",
    "\n",
    "    for _ in range(attempts):\n",
    "        while True:\n",
    "            try:\n",
    "                guess = int(input(\"Enter your guess: \"))\n",
    "                break\n",
    "            except ValueError:\n",
    "                print(\"Invalid input! Please enter a number.\")\n",
    "\n",
    "        if guess > number:\n",
    "            print(\"Too high!\")\n",
    "        elif guess < number:\n",
    "            print(\"Too low!\")\n",
    "        else:\n",
    "            print(\"You guessed it right!\")\n",
    "            break  \n",
    "    else:\n",
    "        print(\"You lost. Want to play again? (yes/no)\")\n",
    "        play_again = input().strip().lower()\n",
    "        if play_again not in ['y', 'yes', 'ok']:\n",
    "            print(\"Thanks for playing!\")\n",
    "            break"
   ]
  },
  {
   "cell_type": "markdown",
   "metadata": {},
   "source": [
    "# 5. Password Checker Task: Create a simple password checker.\n",
    "# Ask the user to enter a password."
   ]
  },
  {
   "cell_type": "code",
   "execution_count": 4,
   "metadata": {},
   "outputs": [
    {
     "name": "stdout",
     "output_type": "stream",
     "text": [
      "Password set successfully !\n"
     ]
    }
   ],
   "source": [
    "password  = input(\"Enter your password: \")\n",
    "print(\"Password set successfully !\")"
   ]
  },
  {
   "cell_type": "markdown",
   "metadata": {},
   "source": [
    "# If the password is shorter than 8 characters, print \"Password is too short.\""
   ]
  },
  {
   "cell_type": "code",
   "execution_count": 7,
   "metadata": {},
   "outputs": [
    {
     "name": "stdout",
     "output_type": "stream",
     "text": [
      "Password accepted !\n"
     ]
    }
   ],
   "source": [
    "password = input(\"Enter your password: \")\n",
    "\n",
    "if len(password) < 8:\n",
    "    print(\"Password is too short: \")\n",
    "else:\n",
    "    print(\"Password accepted !\")"
   ]
  },
  {
   "cell_type": "markdown",
   "metadata": {},
   "source": [
    "# If the password doesn’t contain at least one uppercase letter, print \"Password must contain an uppercase letter.\"."
   ]
  },
  {
   "cell_type": "code",
   "execution_count": 10,
   "metadata": {},
   "outputs": [
    {
     "name": "stdout",
     "output_type": "stream",
     "text": [
      "Password accepted !\n"
     ]
    }
   ],
   "source": [
    "password = input(\"Enter your password: \")\n",
    "\n",
    "if len(password) < 8:\n",
    "    print(\"Password is too short: \")\n",
    "elif not any(char.isupper() for char in password):\n",
    "    print(\"Password must contain an uppercase letter.\")\n",
    "else:\n",
    "    print(\"Password accepted !\")"
   ]
  },
  {
   "cell_type": "markdown",
   "metadata": {},
   "source": [
    "# If the password meets both criteria, print \"Password is strong.\""
   ]
  },
  {
   "cell_type": "code",
   "execution_count": 11,
   "metadata": {},
   "outputs": [
    {
     "name": "stdout",
     "output_type": "stream",
     "text": [
      "Password is strong.\n"
     ]
    }
   ],
   "source": [
    "password = input(\"Enter your password: \")\n",
    "\n",
    "if len(password) < 8:\n",
    "    print(\"Password is too short: \")\n",
    "elif not any(char.isupper() for char in password):\n",
    "    print(\"Password must contain an uppercase letter.\")\n",
    "else:\n",
    "    print(\"Password is strong.\")"
   ]
  },
  {
   "cell_type": "markdown",
   "metadata": {},
   "source": [
    "# 6. Prime Numbers Task: Write a Python program that prints all prime numbers between 1 and 100.\n",
    "\n",
    "# A prime number is a number greater than 1 that is not divisible by any number other than 1 and itself. Use nested loops to check divisibility."
   ]
  },
  {
   "cell_type": "code",
   "execution_count": 13,
   "metadata": {},
   "outputs": [
    {
     "name": "stdout",
     "output_type": "stream",
     "text": [
      "Prime numbers between 1 and 100:\n",
      "2 3 5 7 11 13 17 19 23 29 31 37 41 43 47 53 59 61 67 71 73 79 83 89 97 "
     ]
    }
   ],
   "source": [
    "print(\"Prime numbers between 1 and 100:\")\n",
    "\n",
    "for num in range(2, 101):  \n",
    "    is_prime = True  \n",
    "    \n",
    "    for divisor in range(2, int(num ** 0.5) + 1):  \n",
    "        if num % divisor == 0:\n",
    "            is_prime = False \n",
    "            break \n",
    "\n",
    "    if is_prime:\n",
    "        print(num, end=\" \")"
   ]
  },
  {
   "cell_type": "markdown",
   "metadata": {},
   "source": [
    "# Bonus Challenge\n",
    "# Task: Create a simple text-based Rock, Paper, Scissors game where the player plays against the computer.\n",
    "\n",
    "# The computer randomly chooses rock, paper, or scissors using random.choice()\n",
    "# The player enters their choice.\n",
    "# Display the winner and keep track of scores for the player and the computer.\n",
    "# First to 5 points wins the match."
   ]
  },
  {
   "cell_type": "code",
   "execution_count": 15,
   "metadata": {},
   "outputs": [
    {
     "name": "stdout",
     "output_type": "stream",
     "text": [
      "Welcome to Rock, Paper, Scissors! First to 5 points wins!\n",
      "Computer chose: paper\n",
      "Computer wins this round!\n",
      "Score: Player 0 - 1 Computer\n",
      "\n",
      "Computer chose: paper\n",
      "Computer wins this round!\n",
      "Score: Player 0 - 2 Computer\n",
      "\n",
      "Computer chose: rock\n",
      "You win this round!\n",
      "Score: Player 1 - 2 Computer\n",
      "\n",
      "Computer chose: paper\n",
      "You win this round!\n",
      "Score: Player 2 - 2 Computer\n",
      "\n",
      "Computer chose: paper\n",
      "It's a tie! No points awarded.\n",
      "Score: Player 2 - 2 Computer\n",
      "\n",
      "Computer chose: rock\n",
      "It's a tie! No points awarded.\n",
      "Score: Player 2 - 2 Computer\n",
      "\n",
      "Computer chose: rock\n",
      "It's a tie! No points awarded.\n",
      "Score: Player 2 - 2 Computer\n",
      "\n",
      "Computer chose: rock\n",
      "It's a tie! No points awarded.\n",
      "Score: Player 2 - 2 Computer\n",
      "\n",
      "Computer chose: paper\n",
      "It's a tie! No points awarded.\n",
      "Score: Player 2 - 2 Computer\n",
      "\n",
      "Computer chose: scissors\n",
      "You win this round!\n",
      "Score: Player 3 - 2 Computer\n",
      "\n",
      "Computer chose: paper\n",
      "Computer wins this round!\n",
      "Score: Player 3 - 3 Computer\n",
      "\n",
      "Computer chose: paper\n",
      "Computer wins this round!\n",
      "Score: Player 3 - 4 Computer\n",
      "\n",
      "Computer chose: paper\n",
      "Computer wins this round!\n",
      "Score: Player 3 - 5 Computer\n",
      "\n",
      "Computer won the match! Better luck next time. 🤖\n",
      "Thanks for playing!\n"
     ]
    }
   ],
   "source": [
    "import random\n",
    "\n",
    "options = [\"rock\", \"paper\", \"scissors\"]\n",
    "player_score = 0\n",
    "computer_score = 0\n",
    "winning_score = 5\n",
    "print(\"Welcome to Rock, Paper, Scissors! First to 5 points wins!\")\n",
    "\n",
    "while player_score < winning_score and computer_score < winning_score:\n",
    "    computer_choice = random.choice(options)\n",
    "    user_choice = input(\"Choose rock, paper, or scissors: \").strip().lower()\n",
    "\n",
    "    if user_choice not in options:\n",
    "        print(\"Invalid choice! Please choose rock, paper, or scissors.\")\n",
    "        continue\n",
    "\n",
    "    print(f\"Computer chose: {computer_choice}\")\n",
    "\n",
    "    if user_choice == computer_choice:\n",
    "        print(\"It's a tie! No points awarded.\")\n",
    "    elif (user_choice == \"rock\" and computer_choice == \"scissors\") or \\\n",
    "         (user_choice == \"paper\" and computer_choice == \"rock\") or \\\n",
    "         (user_choice == \"scissors\" and computer_choice == \"paper\"):\n",
    "        print(\"You win this round!\")\n",
    "        player_score += 1\n",
    "    else:\n",
    "        print(\"Computer wins this round!\")\n",
    "        computer_score += 1 \n",
    "\n",
    "    print(f\"Score: Player {player_score} - {computer_score} Computer\\n\")\n",
    "\n",
    "if player_score == winning_score:\n",
    "    print(\"Congratulations! You won the match! 🏆\")\n",
    "else:\n",
    "    print(\"Computer won the match! Better luck next time. 🤖\")\n",
    "\n",
    "print(\"Thanks for playing!\")"
   ]
  }
 ],
 "metadata": {
  "kernelspec": {
   "display_name": "Python 3",
   "language": "python",
   "name": "python3"
  },
  "language_info": {
   "codemirror_mode": {
    "name": "ipython",
    "version": 3
   },
   "file_extension": ".py",
   "mimetype": "text/x-python",
   "name": "python",
   "nbconvert_exporter": "python",
   "pygments_lexer": "ipython3",
   "version": "3.12.0"
  }
 },
 "nbformat": 4,
 "nbformat_minor": 2
}
