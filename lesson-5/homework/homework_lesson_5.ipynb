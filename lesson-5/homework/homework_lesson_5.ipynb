{
 "cells": [
  {
   "cell_type": "markdown",
   "metadata": {},
   "source": [
    "# Task 1\n",
    "# Write a script called temperature.py that defines two functions:\n",
    "\n",
    "# convert_cel_to_far() which takes one float parameter representing degrees Celsius and returns a float representing the same temperature in degrees Fahrenheit using the following formula: F = C * 9/5 + 32\n",
    "\n",
    "# convert_far_to_cel() which take one float parameter representing degrees Fahrenheit and returns a float representing the same temperature in degrees Celsius using the following formula: C = (F - 32) * 5/9"
   ]
  },
  {
   "cell_type": "code",
   "execution_count": null,
   "metadata": {},
   "outputs": [
    {
     "name": "stdout",
     "output_type": "stream",
     "text": [
      "25.0 degrees F = -3.89 degrees C\n",
      "\n",
      "25.0 degrees C = 77.0 degrees F\n"
     ]
    }
   ],
   "source": [
    "def convert_cel_to_far(celsius: float) -> float:\n",
    "    return round(celsius * 9/5 + 32, 2)\n",
    "\n",
    "def convert_far_to_cel(fahrenheit: float) -> float:\n",
    "    return round((fahrenheit - 32) * 5/9, 2)\n",
    "\n",
    "if __name__ == \"__main__\":\n",
    "    temp_f = float(input(\"Enter a temperature in degrees F: \"))\n",
    "    temp_c = convert_far_to_cel(temp_f)\n",
    "    print(f\"{temp_f} degrees F = {temp_c} degrees C\\n\")\n",
    "\n",
    "    temp_c = float(input(\"Enter a temperature in degrees C: \"))\n",
    "    temp_f = convert_cel_to_far(temp_c)\n",
    "    print(f\"{temp_c} degrees C = {temp_f} degrees F\")\n"
   ]
  },
  {
   "cell_type": "markdown",
   "metadata": {},
   "source": [
    "# Task 2\n",
    "# In this challenge, you will write a program called invest.py that tracks the growing amount of an investment over time.\n",
    "\n",
    "# An initial deposit, called the principal amount, is made. Each year, the amount increases by a fixed percentage, called the annual rate of return.\n",
    "\n",
    "# For example, a principal amount of $100 with an annual rate of return of 5% increases the first year by $5. The second year, the increase is 5% of the new amount $105, which is $5.25.\n",
    "\n",
    "# Write a function called invest with three parameters: the principal amount, the annual rate of return, and the number of years to calculate. The function signature might look something like this:\n",
    "\n",
    "# def invest(amount, rate, years):\n",
    "# The function then prints out the amount of the investment, rounded to 2 decimal places, at the end of each year for the specified number of years.\n",
    "\n",
    "# For example, calling invest(100, .05, 4) should print the following:\n",
    "\n",
    "# year 1: $105.00\n",
    "# year 2: $110.25\n",
    "# year 3: $115.76\n",
    "# year 4: $121.55\n",
    "# To finish the program, prompt the user to enter an initial amount, an annual percentage rate, and a number of years. Then call invest() to display the calculations for the values entered by the user."
   ]
  },
  {
   "cell_type": "code",
   "execution_count": 4,
   "metadata": {},
   "outputs": [
    {
     "name": "stdout",
     "output_type": "stream",
     "text": [
      "\n",
      "Investment Growth:\n",
      "year 1: $1100.00\n",
      "year 2: $1210.00\n",
      "year 3: $1331.00\n",
      "year 4: $1464.10\n",
      "year 5: $1610.51\n"
     ]
    }
   ],
   "source": [
    "def invest(amount: float, rate: float, years: int):\n",
    "    for year in range(1, years + 1):\n",
    "        amount += amount * rate\n",
    "        print(f\"year {year}: ${amount:.2f}\")\n",
    "\n",
    "if __name__ == \"__main__\":\n",
    "    principal = float(input(\"Enter the initial amount: \"))\n",
    "    annual_rate = float(input(\"Enter the annual rate of return (in %): \")) / 100\n",
    "    num_years = int(input(\"Enter the number of years: \"))\n",
    "\n",
    "    print(\"\\nInvestment Growth:\")\n",
    "    invest(principal, annual_rate, num_years)\n"
   ]
  },
  {
   "cell_type": "markdown",
   "metadata": {},
   "source": [
    "# Task 3\n",
    "# A factor of a positive integer n is any positive integer less than or equal to n that divides n with no remainder.\n",
    "\n",
    "# For example, 3 is a factor of 12 because 12 divided by 3 is 4, with no remainder. However, 5 is not a factor of 12 because # 5 goes into 12 twice with a remainder of 2.\n",
    "\n",
    "# Write a script factors.py that asks the user to input a positive integer and then prints out the factors of that number. # Here’s a sample run of the program with output:\n",
    "\n",
    "# Enter a positive integer: 12\n",
    "# 1 is a factor of 12\n",
    "# 2 is a factor of 12\n",
    "# 3 is a factor of 12\n",
    "# 4 is a factor of 12\n",
    "# 6 is a factor of 12\n",
    "# 12 is a factor of 12"
   ]
  },
  {
   "cell_type": "code",
   "execution_count": 8,
   "metadata": {},
   "outputs": [
    {
     "name": "stdout",
     "output_type": "stream",
     "text": [
      "1 is a factor of 125\n",
      "5 is a factor of 125\n",
      "25 is a factor of 125\n",
      "125 is a factor of 125\n"
     ]
    }
   ],
   "source": [
    "def find_factors(n: int):\n",
    "    for i in range(1, n + 1): \n",
    "        if n % i == 0: \n",
    "            print(f\"{i} is a factor of {n}\")\n",
    "\n",
    "if __name__ == \"__main__\":\n",
    "    number = int(input(\"Enter a positive integer: \"))\n",
    "\n",
    "    if number > 0:\n",
    "        find_factors(number)\n",
    "    else:\n",
    "        print(\"Please enter a positive integer.\")"
   ]
  },
  {
   "cell_type": "markdown",
   "metadata": {},
   "source": [
    "# Task 4\n",
    "# Write a program that contains the following lists of lists:\n",
    "\n",
    "# universities = [\n",
    "#     ['California Institute of Technology', 2175, 37704],\n",
    "#     ['Harvard', 19627, 39849],\n",
    "#     ['Massachusetts Institute of Technology', 10566, 40732],\n",
    "#     ['Princeton', 7802, 37000],\n",
    "#     ['Rice', 5879, 35551],\n",
    "#     ['Stanford', 19535, 40569],\n",
    "#     ['Yale', 11701, 40500]\n",
    "# ]\n",
    "# Define a function, enrollment_stats(), that akes, as an input, a list of lists where each individual list contains three # elements: (a) the name of a university, (b) the total number of enrolled students, and (c) the annual tuition fees.\n",
    "\n",
    "# enrollment_stats() should return two lists: the first containing all of the student enrollment values and the second # containing all of the tuition fees.\n",
    "\n",
    "# Next, define a mean() and a median() function. Both functions should take a single list as an argument and return the mean # and median of the values in each list.\n",
    "\n",
    "# Using universities, enrollment_stats(), mean(), and median(), calculate the total number of students, the total tuition, # the mean and median of the number of students, and the mean and median tuition values.\n",
    "# \n",
    "# Finally, output all values, and format the output so that it looks like this:\n",
    "\n",
    "# ******************************\n",
    "# Total students: 77,285\n",
    "# Total tuition: $ 271,905\n",
    "\n",
    "# Student mean: 11,040.71\n",
    "# Student median: 10,566\n",
    "\n",
    "# Tuition mean: $ 38,843.57\n",
    "# Tuition median: $ 39,849\n",
    "# ******************************"
   ]
  },
  {
   "cell_type": "code",
   "execution_count": null,
   "metadata": {},
   "outputs": [
    {
     "name": "stdout",
     "output_type": "stream",
     "text": [
      "******************************\n",
      "Total students: 77,285\n",
      "Total tuition: $ 271,905\n",
      "\n",
      "Student mean: 11,040.71\n",
      "Student median: 10,566\n",
      "\n",
      "Tuition mean: $ 38,843.57\n",
      "Tuition median: $ 39,849\n",
      "******************************\n"
     ]
    }
   ],
   "source": [
    "import statistics \n",
    "\n",
    "universities = [\n",
    "    ['California Institute of Technology', 2175, 37704],\n",
    "    ['Harvard', 19627, 39849],\n",
    "    ['Massachusetts Institute of Technology', 10566, 40732],\n",
    "    ['Princeton', 7802, 37000],\n",
    "    ['Rice', 5879, 35551],\n",
    "    ['Stanford', 19535, 40569],\n",
    "    ['Yale', 11701, 40500]\n",
    "]\n",
    "\n",
    "def enrollment_stats(universities):\n",
    "    enrollments = [university[1] for university in universities] \n",
    "    tuitions = [university[2] for university in universities] \n",
    "    return enrollments, tuitions\n",
    "\n",
    "def mean(values):\n",
    "    return round(sum(values) / len(values), 2) if values else 0  \n",
    "\n",
    "def median(values):\n",
    "    return round(statistics.median(values), 2) if values else 0 \n",
    "\n",
    "student_enrollments, tuition_fees = enrollment_stats(universities)\n",
    "\n",
    "total_students = sum(student_enrollments)\n",
    "total_tuition = sum(tuition_fees)\n",
    "\n",
    "student_mean = mean(student_enrollments)\n",
    "student_median = median(student_enrollments)\n",
    "\n",
    "tuition_mean = mean(tuition_fees)\n",
    "tuition_median = median(tuition_fees)\n",
    "\n",
    "print(\"******************************\")\n",
    "print(f\"Total students: {total_students:,}\") \n",
    "print(f\"Total tuition: $ {total_tuition:,}\\n\")\n",
    "\n",
    "print(f\"Student mean: {student_mean:,.2f}\")\n",
    "print(f\"Student median: {student_median:,}\\n\")\n",
    "\n",
    "print(f\"Tuition mean: $ {tuition_mean:,.2f}\")\n",
    "print(f\"Tuition median: $ {tuition_median:,}\")\n",
    "print(\"******************************\")"
   ]
  },
  {
   "cell_type": "markdown",
   "metadata": {},
   "source": [
    "# Task 5\n",
    "# Define a function is_prime(n) which returns True if the given \n",
    "# n(n> 0) is prime number, otherwise returns False."
   ]
  },
  {
   "cell_type": "code",
   "execution_count": 11,
   "metadata": {},
   "outputs": [
    {
     "name": "stdout",
     "output_type": "stream",
     "text": [
      "2 is a prime number.\n"
     ]
    }
   ],
   "source": [
    "def is_prime(n: int) -> bool:\n",
    "    if n <= 1:\n",
    "        return False  \n",
    "\n",
    "    for i in range(2, int(n ** 0.5) + 1):  \n",
    "        if n % i == 0:\n",
    "            return False\n",
    "    return True\n",
    "\n",
    "num = int(input(\"Enter a positive integer: \"))\n",
    "if is_prime(num):\n",
    "    print(f\"{num} is a prime number.\")\n",
    "else:\n",
    "    print(f\"{num} is not a prime number.\")"
   ]
  }
 ],
 "metadata": {
  "kernelspec": {
   "display_name": "Python 3",
   "language": "python",
   "name": "python3"
  },
  "language_info": {
   "codemirror_mode": {
    "name": "ipython",
    "version": 3
   },
   "file_extension": ".py",
   "mimetype": "text/x-python",
   "name": "python",
   "nbconvert_exporter": "python",
   "pygments_lexer": "ipython3",
   "version": "3.12.0"
  }
 },
 "nbformat": 4,
 "nbformat_minor": 2
}
